{
  "nbformat": 4,
  "nbformat_minor": 0,
  "metadata": {
    "accelerator": "GPU",
    "colab": {
      "name": "CNN.ipynb",
      "provenance": [],
      "collapsed_sections": []
    },
    "kernelspec": {
      "display_name": "Python 3",
      "name": "python3"
    },
    "language_info": {
      "name": "python"
    }
  },
  "cells": [
    {
      "cell_type": "code",
      "metadata": {
        "colab": {
          "base_uri": "https://localhost:8080/"
        },
        "id": "CWU1KysfVmWE",
        "outputId": "353920d7-13e8-40ce-94af-4b52d800b908"
      },
      "source": [
        "from google.colab import drive\n",
        "drive.mount('/content/drive', force_remount=True)"
      ],
      "execution_count": 1,
      "outputs": [
        {
          "output_type": "stream",
          "text": [
            "Mounted at /content/drive\n"
          ],
          "name": "stdout"
        }
      ]
    },
    {
      "cell_type": "code",
      "metadata": {
        "id": "fHtQEIbXVnfq"
      },
      "source": [
        "import numpy as np\n",
        "import pandas as pd\n",
        "import matplotlib.pyplot as plt\n",
        "import seaborn as sns\n",
        "\n",
        "from sklearn.model_selection import train_test_split\n",
        "from sklearn.metrics import confusion_matrix\n",
        "import itertools\n",
        "\n",
        "np.random.seed(2)\n",
        "\n",
        "import keras\n",
        "from keras.preprocessing.image import ImageDataGenerator\n",
        "from keras.callbacks import ReduceLROnPlateau\n",
        "from keras.utils.np_utils import to_categorical\n",
        "from keras.models import Sequential\n",
        "import keras.optimizers as opt\n",
        "from keras.layers.convolutional import Conv2D, MaxPooling2D, SeparableConv2D\n",
        "from keras.layers.core import Dropout, Flatten, Dense\n",
        "from keras.layers.normalization import BatchNormalization\n",
        "from keras.layers import Input"
      ],
      "execution_count": 2,
      "outputs": []
    },
    {
      "cell_type": "code",
      "metadata": {
        "colab": {
          "base_uri": "https://localhost:8080/",
          "height": 191
        },
        "id": "M3VlXWGFVz_7",
        "outputId": "bd87dde7-74b1-41ad-f08b-ef64e50a8b74"
      },
      "source": [
        "data = pd.read_csv(\"/content/drive/MyDrive/Colab Notebooks/fer2013.csv\")\n",
        "data.head()"
      ],
      "execution_count": 3,
      "outputs": [
        {
          "output_type": "execute_result",
          "data": {
            "text/html": [
              "<div>\n",
              "<style scoped>\n",
              "    .dataframe tbody tr th:only-of-type {\n",
              "        vertical-align: middle;\n",
              "    }\n",
              "\n",
              "    .dataframe tbody tr th {\n",
              "        vertical-align: top;\n",
              "    }\n",
              "\n",
              "    .dataframe thead th {\n",
              "        text-align: right;\n",
              "    }\n",
              "</style>\n",
              "<table border=\"1\" class=\"dataframe\">\n",
              "  <thead>\n",
              "    <tr style=\"text-align: right;\">\n",
              "      <th></th>\n",
              "      <th>emotion</th>\n",
              "      <th>pixels</th>\n",
              "      <th>Usage</th>\n",
              "    </tr>\n",
              "  </thead>\n",
              "  <tbody>\n",
              "    <tr>\n",
              "      <th>0</th>\n",
              "      <td>0</td>\n",
              "      <td>70 80 82 72 58 58 60 63 54 58 60 48 89 115 121...</td>\n",
              "      <td>Training</td>\n",
              "    </tr>\n",
              "    <tr>\n",
              "      <th>1</th>\n",
              "      <td>0</td>\n",
              "      <td>151 150 147 155 148 133 111 140 170 174 182 15...</td>\n",
              "      <td>Training</td>\n",
              "    </tr>\n",
              "    <tr>\n",
              "      <th>2</th>\n",
              "      <td>2</td>\n",
              "      <td>231 212 156 164 174 138 161 173 182 200 106 38...</td>\n",
              "      <td>Training</td>\n",
              "    </tr>\n",
              "    <tr>\n",
              "      <th>3</th>\n",
              "      <td>4</td>\n",
              "      <td>24 32 36 30 32 23 19 20 30 41 21 22 32 34 21 1...</td>\n",
              "      <td>Training</td>\n",
              "    </tr>\n",
              "    <tr>\n",
              "      <th>4</th>\n",
              "      <td>6</td>\n",
              "      <td>4 0 0 0 0 0 0 0 0 0 0 0 3 15 23 28 48 50 58 84...</td>\n",
              "      <td>Training</td>\n",
              "    </tr>\n",
              "  </tbody>\n",
              "</table>\n",
              "</div>"
            ],
            "text/plain": [
              "   emotion                                             pixels     Usage\n",
              "0        0  70 80 82 72 58 58 60 63 54 58 60 48 89 115 121...  Training\n",
              "1        0  151 150 147 155 148 133 111 140 170 174 182 15...  Training\n",
              "2        2  231 212 156 164 174 138 161 173 182 200 106 38...  Training\n",
              "3        4  24 32 36 30 32 23 19 20 30 41 21 22 32 34 21 1...  Training\n",
              "4        6  4 0 0 0 0 0 0 0 0 0 0 0 3 15 23 28 48 50 58 84...  Training"
            ]
          },
          "metadata": {
            "tags": []
          },
          "execution_count": 3
        }
      ]
    },
    {
      "cell_type": "code",
      "metadata": {
        "id": "XgiYVtezV3Dp"
      },
      "source": [
        "groups = [g for _, g in data.groupby('Usage')]\n",
        "train = groups[2]\n",
        "val = groups[1]\n",
        "test = groups[0]"
      ],
      "execution_count": 4,
      "outputs": []
    },
    {
      "cell_type": "code",
      "metadata": {
        "id": "CKdHpFqtV_-x"
      },
      "source": [
        "train = train.drop(labels=['Usage'], axis=1)\n",
        "val = val.drop(labels=['Usage'], axis=1)\n",
        "test = test.drop(labels=['Usage'], axis=1)\n",
        "\n",
        "Y_train = train[\"emotion\"]\n",
        "Y_val = val[\"emotion\"]\n",
        "Y_test = test[\"emotion\"]\n",
        "#'Angry', 'Disgust', 'Fear', 'Happy', 'Sad', 'Surprise', 'Neutral'#\n",
        "\n",
        "X_train = train[\"pixels\"]\n",
        "X_val = val[\"pixels\"]\n",
        "X_test = test[\"pixels\"]"
      ],
      "execution_count": 5,
      "outputs": []
    },
    {
      "cell_type": "code",
      "metadata": {
        "id": "7GlvBfHnWBah"
      },
      "source": [
        "def preprocess(X):\n",
        "    X = np.array([np.fromstring(image, np.uint8, sep=' ') for image in X])\n",
        "    X = X/255.0\n",
        "    X = X.reshape(-1, 48, 48, 1)\n",
        "    return X"
      ],
      "execution_count": 6,
      "outputs": []
    },
    {
      "cell_type": "code",
      "metadata": {
        "id": "XZ-l4MDtWCnd"
      },
      "source": [
        "X_train = preprocess(X_train)\n",
        "X_val = preprocess(X_val)\n",
        "X_test = preprocess(X_test)"
      ],
      "execution_count": 7,
      "outputs": []
    },
    {
      "cell_type": "code",
      "metadata": {
        "colab": {
          "base_uri": "https://localhost:8080/",
          "height": 283
        },
        "id": "-lXsDc3eWD7Z",
        "outputId": "0c227871-7683-4af9-ec9c-da9a7ce2b33e"
      },
      "source": [
        "plt.imshow(X_train[0][:,:,0])"
      ],
      "execution_count": 8,
      "outputs": [
        {
          "output_type": "execute_result",
          "data": {
            "text/plain": [
              "<matplotlib.image.AxesImage at 0x7fd80216bb90>"
            ]
          },
          "metadata": {
            "tags": []
          },
          "execution_count": 8
        },
        {
          "output_type": "display_data",
          "data": {
            "image/png": "[encoded data removed]",
            "text/plain": [
              "<Figure size 432x288 with 1 Axes>"
            ]
          },
          "metadata": {
            "tags": [],
            "needs_background": "light"
          }
        }
      ]
    },
    {
      "cell_type": "code",
      "metadata": {
        "colab": {
          "base_uri": "https://localhost:8080/",
          "height": 486
        },
        "id": "ubDrb9WBWFOO",
        "outputId": "de070d63-1009-4850-e473-312754c32ecc"
      },
      "source": [
        "plt.figure(figsize=(30, 7))\n",
        "\n",
        "plt.subplot(1,3,1)\n",
        "ax = sns.countplot(Y_train)\n",
        "ax.set(ylabel=\"count\", xlabel=\"emotion\")\n",
        "plt.title(\"Counts per emotion in training set\")\n",
        "\n",
        "plt.subplot(1,3,2)\n",
        "ax = sns.countplot(Y_val)\n",
        "ax.set(ylabel=\"count\", xlabel=\"emotion\")\n",
        "plt.title(\"Counts per emotion in validation set\")\n",
        "\n",
        "plt.subplot(1,3,3)\n",
        "ax = sns.countplot(Y_test)\n",
        "ax.set(ylabel=\"count\", xlabel=\"emotion\")\n",
        "plt.title(\"Counts per emotion in testing set\")"
      ],
      "execution_count": 9,
      "outputs": [
        {
          "output_type": "stream",
          "text": [
            "/usr/local/lib/python3.7/dist-packages/seaborn/_decorators.py:43: FutureWarning: Pass the following variable as a keyword arg: x. From version 0.12, the only valid positional argument will be `data`, and passing other arguments without an explicit keyword will result in an error or misinterpretation.\n",
            "  FutureWarning\n",
            "/usr/local/lib/python3.7/dist-packages/seaborn/_decorators.py:43: FutureWarning: Pass the following variable as a keyword arg: x. From version 0.12, the only valid positional argument will be `data`, and passing other arguments without an explicit keyword will result in an error or misinterpretation.\n",
            "  FutureWarning\n",
            "/usr/local/lib/python3.7/dist-packages/seaborn/_decorators.py:43: FutureWarning: Pass the following variable as a keyword arg: x. From version 0.12, the only valid positional argument will be `data`, and passing other arguments without an explicit keyword will result in an error or misinterpretation.\n",
            "  FutureWarning\n"
          ],
          "name": "stderr"
        },
        {
          "output_type": "execute_result",
          "data": {
            "text/plain": [
              "Text(0.5, 1.0, 'Counts per emotion in testing set')"
            ]
          },
          "metadata": {
            "tags": []
          },
          "execution_count": 9
        },
        {
          "output_type": "display_data",
          "data": {
            "image/png": "[encoded data removed]",
            "text/plain": [
              "<Figure size 2160x504 with 3 Axes>"
            ]
          },
          "metadata": {
            "tags": [],
            "needs_background": "light"
          }
        }
      ]
    },
    {
      "cell_type": "code",
      "metadata": {
        "id": "6YVzw61AZ-ad"
      },
      "source": [
        "Y_train = to_categorical(Y_train, num_classes=7)\n",
        "Y_val = to_categorical(Y_val, num_classes=7)\n",
        "Y_test = to_categorical(Y_test, num_classes=7)"
      ],
      "execution_count": 10,
      "outputs": []
    },
    {
      "cell_type": "code",
      "metadata": {
        "id": "D2faY1d-WJYj"
      },
      "source": [
        "model = Sequential()\n",
        "model.add(Conv2D(32, (3,3), padding=\"Same\", activation='relu', input_shape=(48,48,1)))\n",
        "model.add(BatchNormalization())\n",
        "model.add(Conv2D(32, (5,5), padding=\"Same\", activation='relu'))\n",
        "model.add(MaxPooling2D((2,2)))\n",
        "model.add(Dropout(0.5))\n",
        "model.add(Conv2D(64, (3,3), padding=\"Same\", activation='relu'))\n",
        "model.add(BatchNormalization())\n",
        "model.add(Conv2D(64, (5,5), padding=\"Same\", activation='relu'))\n",
        "model.add(MaxPooling2D((2,2))) \n",
        "model.add(Dropout(0.5))\n",
        "model.add(Conv2D(128, (3,3), padding=\"Same\", activation='relu'))\n",
        "model.add(BatchNormalization())\n",
        "model.add(Conv2D(128, (5,5), padding=\"Same\", activation='relu'))\n",
        "model.add(MaxPooling2D((2,2))) \n",
        "model.add(Dropout(0.5))\n",
        "model.add(Flatten())\n",
        "model.add(Dense(256, activation='relu'))\n",
        "model.add(Dense(7, activation='softmax'))"
      ],
      "execution_count": 11,
      "outputs": []
    },
    {
      "cell_type": "code",
      "metadata": {
        "id": "gJAaudqXWLeh"
      },
      "source": [
        "optimizer = opt.Adam(lr = 0.001)\n",
        "lr_anneal = ReduceLROnPlateau(monitor = 'val_accuracy', patience=3, factor=0.2, min_lr=1e-6)"
      ],
      "execution_count": 12,
      "outputs": []
    },
    {
      "cell_type": "code",
      "metadata": {
        "id": "Nxmu3xQ7WNDQ"
      },
      "source": [
        "model.compile(optimizer=optimizer, loss='categorical_crossentropy', metrics=['accuracy'])"
      ],
      "execution_count": 13,
      "outputs": []
    },
    {
      "cell_type": "code",
      "metadata": {
        "colab": {
          "base_uri": "https://localhost:8080/"
        },
        "id": "yzC7v3fYWOj-",
        "outputId": "e69ebae6-15e5-4927-a082-02d9ec2fa1ed"
      },
      "source": [
        "history = model.fit(X_train, Y_train, validation_data=(X_val, Y_val), epochs=100, batch_size = 100, callbacks=[lr_anneal])"
      ],
      "execution_count": 14,
      "outputs": [
        {
          "output_type": "stream",
          "text": [
            "Epoch 1/100\n",
            "288/288 [==============================] - 43s 31ms/step - loss: 2.7167 - accuracy: 0.2252 - val_loss: 1.8574 - val_accuracy: 0.2513\n",
            "Epoch 2/100\n",
            "288/288 [==============================] - 8s 28ms/step - loss: 1.7114 - accuracy: 0.3074 - val_loss: 1.6874 - val_accuracy: 0.3330\n",
            "Epoch 3/100\n",
            "288/288 [==============================] - 8s 28ms/step - loss: 1.5231 - accuracy: 0.3950 - val_loss: 1.3768 - val_accuracy: 0.4539\n",
            "Epoch 4/100\n",
            "288/288 [==============================] - 8s 28ms/step - loss: 1.3707 - accuracy: 0.4633 - val_loss: 1.3125 - val_accuracy: 0.4901\n",
            "Epoch 5/100\n",
            "288/288 [==============================] - 8s 29ms/step - loss: 1.2907 - accuracy: 0.5015 - val_loss: 1.2829 - val_accuracy: 0.5091\n",
            "Epoch 6/100\n",
            "288/288 [==============================] - 8s 29ms/step - loss: 1.2410 - accuracy: 0.5263 - val_loss: 1.2795 - val_accuracy: 0.5057\n",
            "Epoch 7/100\n",
            "288/288 [==============================] - 8s 29ms/step - loss: 1.1899 - accuracy: 0.5469 - val_loss: 1.1928 - val_accuracy: 0.5428\n",
            "Epoch 8/100\n",
            "288/288 [==============================] - 8s 28ms/step - loss: 1.1525 - accuracy: 0.5608 - val_loss: 1.1736 - val_accuracy: 0.5483\n",
            "Epoch 9/100\n",
            "288/288 [==============================] - 8s 28ms/step - loss: 1.1400 - accuracy: 0.5662 - val_loss: 1.1458 - val_accuracy: 0.5578\n",
            "Epoch 10/100\n",
            "288/288 [==============================] - 8s 28ms/step - loss: 1.0911 - accuracy: 0.5903 - val_loss: 1.1277 - val_accuracy: 0.5698\n",
            "Epoch 11/100\n",
            "288/288 [==============================] - 8s 28ms/step - loss: 1.0682 - accuracy: 0.5927 - val_loss: 1.1580 - val_accuracy: 0.5623\n",
            "Epoch 12/100\n",
            "288/288 [==============================] - 8s 28ms/step - loss: 1.0251 - accuracy: 0.6124 - val_loss: 1.2232 - val_accuracy: 0.5344\n",
            "Epoch 13/100\n",
            "288/288 [==============================] - 8s 28ms/step - loss: 1.0228 - accuracy: 0.6148 - val_loss: 1.0714 - val_accuracy: 0.5940\n",
            "Epoch 14/100\n",
            "288/288 [==============================] - 8s 28ms/step - loss: 1.0183 - accuracy: 0.6204 - val_loss: 1.0914 - val_accuracy: 0.5952\n",
            "Epoch 15/100\n",
            "288/288 [==============================] - 8s 28ms/step - loss: 0.9862 - accuracy: 0.6268 - val_loss: 1.1170 - val_accuracy: 0.5954\n",
            "Epoch 16/100\n",
            "288/288 [==============================] - 8s 28ms/step - loss: 0.9658 - accuracy: 0.6375 - val_loss: 1.1079 - val_accuracy: 0.5865\n",
            "Epoch 17/100\n",
            "288/288 [==============================] - 8s 28ms/step - loss: 0.9493 - accuracy: 0.6446 - val_loss: 1.0969 - val_accuracy: 0.6018\n",
            "Epoch 18/100\n",
            "288/288 [==============================] - 8s 28ms/step - loss: 0.9320 - accuracy: 0.6513 - val_loss: 1.1705 - val_accuracy: 0.5782\n",
            "Epoch 19/100\n",
            "288/288 [==============================] - 8s 28ms/step - loss: 0.9145 - accuracy: 0.6569 - val_loss: 1.0938 - val_accuracy: 0.6113\n",
            "Epoch 20/100\n",
            "288/288 [==============================] - 8s 28ms/step - loss: 0.9043 - accuracy: 0.6618 - val_loss: 1.0903 - val_accuracy: 0.5996\n",
            "Epoch 21/100\n",
            "288/288 [==============================] - 8s 28ms/step - loss: 0.8857 - accuracy: 0.6704 - val_loss: 1.1362 - val_accuracy: 0.5982\n",
            "Epoch 22/100\n",
            "288/288 [==============================] - 8s 28ms/step - loss: 0.8699 - accuracy: 0.6785 - val_loss: 1.1238 - val_accuracy: 0.6102\n",
            "Epoch 23/100\n",
            "288/288 [==============================] - 8s 28ms/step - loss: 0.8205 - accuracy: 0.6976 - val_loss: 1.0556 - val_accuracy: 0.6305\n",
            "Epoch 24/100\n",
            "288/288 [==============================] - 8s 28ms/step - loss: 0.7858 - accuracy: 0.7089 - val_loss: 1.0673 - val_accuracy: 0.6325\n",
            "Epoch 25/100\n",
            "288/288 [==============================] - 8s 28ms/step - loss: 0.7763 - accuracy: 0.7111 - val_loss: 1.0622 - val_accuracy: 0.6364\n",
            "Epoch 26/100\n",
            "288/288 [==============================] - 8s 28ms/step - loss: 0.7489 - accuracy: 0.7228 - val_loss: 1.0589 - val_accuracy: 0.6353\n",
            "Epoch 27/100\n",
            "288/288 [==============================] - 8s 28ms/step - loss: 0.7481 - accuracy: 0.7203 - val_loss: 1.0631 - val_accuracy: 0.6353\n",
            "Epoch 28/100\n",
            "288/288 [==============================] - 8s 28ms/step - loss: 0.7344 - accuracy: 0.7284 - val_loss: 1.0686 - val_accuracy: 0.6420\n",
            "Epoch 29/100\n",
            "288/288 [==============================] - 8s 28ms/step - loss: 0.7199 - accuracy: 0.7361 - val_loss: 1.0722 - val_accuracy: 0.6336\n",
            "Epoch 30/100\n",
            "288/288 [==============================] - 8s 28ms/step - loss: 0.7135 - accuracy: 0.7337 - val_loss: 1.0728 - val_accuracy: 0.6375\n",
            "Epoch 31/100\n",
            "288/288 [==============================] - 8s 28ms/step - loss: 0.7061 - accuracy: 0.7349 - val_loss: 1.0549 - val_accuracy: 0.6403\n",
            "Epoch 32/100\n",
            "288/288 [==============================] - 8s 28ms/step - loss: 0.6766 - accuracy: 0.7474 - val_loss: 1.0587 - val_accuracy: 0.6478\n",
            "Epoch 33/100\n",
            "288/288 [==============================] - 8s 28ms/step - loss: 0.6713 - accuracy: 0.7545 - val_loss: 1.0608 - val_accuracy: 0.6459\n",
            "Epoch 34/100\n",
            "288/288 [==============================] - 8s 28ms/step - loss: 0.6757 - accuracy: 0.7474 - val_loss: 1.0598 - val_accuracy: 0.6456\n",
            "Epoch 35/100\n",
            "288/288 [==============================] - 8s 28ms/step - loss: 0.6762 - accuracy: 0.7479 - val_loss: 1.0630 - val_accuracy: 0.6470\n",
            "Epoch 36/100\n",
            "288/288 [==============================] - 8s 28ms/step - loss: 0.6643 - accuracy: 0.7560 - val_loss: 1.0654 - val_accuracy: 0.6470\n",
            "Epoch 37/100\n",
            "288/288 [==============================] - 8s 28ms/step - loss: 0.6667 - accuracy: 0.7513 - val_loss: 1.0661 - val_accuracy: 0.6459\n",
            "Epoch 38/100\n",
            "288/288 [==============================] - 8s 28ms/step - loss: 0.6691 - accuracy: 0.7527 - val_loss: 1.0665 - val_accuracy: 0.6461\n",
            "Epoch 39/100\n",
            "288/288 [==============================] - 8s 28ms/step - loss: 0.6652 - accuracy: 0.7539 - val_loss: 1.0663 - val_accuracy: 0.6456\n",
            "Epoch 40/100\n",
            "288/288 [==============================] - 8s 28ms/step - loss: 0.6747 - accuracy: 0.7466 - val_loss: 1.0672 - val_accuracy: 0.6456\n",
            "Epoch 41/100\n",
            "288/288 [==============================] - 8s 28ms/step - loss: 0.6669 - accuracy: 0.7535 - val_loss: 1.0666 - val_accuracy: 0.6464\n",
            "Epoch 42/100\n",
            "288/288 [==============================] - 8s 28ms/step - loss: 0.6637 - accuracy: 0.7543 - val_loss: 1.0660 - val_accuracy: 0.6473\n",
            "Epoch 43/100\n",
            "288/288 [==============================] - 8s 28ms/step - loss: 0.6603 - accuracy: 0.7526 - val_loss: 1.0664 - val_accuracy: 0.6467\n",
            "Epoch 44/100\n",
            "288/288 [==============================] - 8s 28ms/step - loss: 0.6600 - accuracy: 0.7560 - val_loss: 1.0668 - val_accuracy: 0.6467\n",
            "Epoch 45/100\n",
            "288/288 [==============================] - 8s 28ms/step - loss: 0.6613 - accuracy: 0.7560 - val_loss: 1.0666 - val_accuracy: 0.6470\n",
            "Epoch 46/100\n",
            "288/288 [==============================] - 8s 28ms/step - loss: 0.6746 - accuracy: 0.7506 - val_loss: 1.0659 - val_accuracy: 0.6473\n",
            "Epoch 47/100\n",
            "288/288 [==============================] - 8s 28ms/step - loss: 0.6686 - accuracy: 0.7540 - val_loss: 1.0664 - val_accuracy: 0.6467\n",
            "Epoch 48/100\n",
            "288/288 [==============================] - 8s 28ms/step - loss: 0.6640 - accuracy: 0.7540 - val_loss: 1.0658 - val_accuracy: 0.6464\n",
            "Epoch 49/100\n",
            "288/288 [==============================] - 8s 28ms/step - loss: 0.6677 - accuracy: 0.7529 - val_loss: 1.0665 - val_accuracy: 0.6470\n",
            "Epoch 50/100\n",
            "288/288 [==============================] - 8s 28ms/step - loss: 0.6730 - accuracy: 0.7521 - val_loss: 1.0666 - val_accuracy: 0.6459\n",
            "Epoch 51/100\n",
            "288/288 [==============================] - 8s 28ms/step - loss: 0.6676 - accuracy: 0.7514 - val_loss: 1.0661 - val_accuracy: 0.6459\n",
            "Epoch 52/100\n",
            "288/288 [==============================] - 8s 28ms/step - loss: 0.6543 - accuracy: 0.7580 - val_loss: 1.0670 - val_accuracy: 0.6467\n",
            "Epoch 53/100\n",
            "288/288 [==============================] - 8s 28ms/step - loss: 0.6656 - accuracy: 0.7532 - val_loss: 1.0663 - val_accuracy: 0.6473\n",
            "Epoch 54/100\n",
            "288/288 [==============================] - 8s 28ms/step - loss: 0.6649 - accuracy: 0.7546 - val_loss: 1.0658 - val_accuracy: 0.6473\n",
            "Epoch 55/100\n",
            "288/288 [==============================] - 8s 28ms/step - loss: 0.6641 - accuracy: 0.7552 - val_loss: 1.0672 - val_accuracy: 0.6470\n",
            "Epoch 56/100\n",
            "288/288 [==============================] - 8s 28ms/step - loss: 0.6652 - accuracy: 0.7537 - val_loss: 1.0662 - val_accuracy: 0.6478\n",
            "Epoch 57/100\n",
            "288/288 [==============================] - 8s 28ms/step - loss: 0.6614 - accuracy: 0.7533 - val_loss: 1.0666 - val_accuracy: 0.6473\n",
            "Epoch 58/100\n",
            "288/288 [==============================] - 8s 28ms/step - loss: 0.6752 - accuracy: 0.7493 - val_loss: 1.0666 - val_accuracy: 0.6473\n",
            "Epoch 59/100\n",
            "288/288 [==============================] - 8s 28ms/step - loss: 0.6644 - accuracy: 0.7521 - val_loss: 1.0667 - val_accuracy: 0.6470\n",
            "Epoch 60/100\n",
            "288/288 [==============================] - 8s 28ms/step - loss: 0.6726 - accuracy: 0.7464 - val_loss: 1.0661 - val_accuracy: 0.6470\n",
            "Epoch 61/100\n",
            "288/288 [==============================] - 8s 28ms/step - loss: 0.6607 - accuracy: 0.7551 - val_loss: 1.0667 - val_accuracy: 0.6475\n",
            "Epoch 62/100\n",
            "288/288 [==============================] - 8s 28ms/step - loss: 0.6616 - accuracy: 0.7568 - val_loss: 1.0660 - val_accuracy: 0.6473\n",
            "Epoch 63/100\n",
            "288/288 [==============================] - 8s 28ms/step - loss: 0.6681 - accuracy: 0.7504 - val_loss: 1.0658 - val_accuracy: 0.6473\n",
            "Epoch 64/100\n",
            "288/288 [==============================] - 8s 28ms/step - loss: 0.6740 - accuracy: 0.7502 - val_loss: 1.0668 - val_accuracy: 0.6473\n",
            "Epoch 65/100\n",
            "288/288 [==============================] - 8s 28ms/step - loss: 0.6717 - accuracy: 0.7500 - val_loss: 1.0662 - val_accuracy: 0.6464\n",
            "Epoch 66/100\n",
            "288/288 [==============================] - 8s 28ms/step - loss: 0.6703 - accuracy: 0.7495 - val_loss: 1.0669 - val_accuracy: 0.6473\n",
            "Epoch 67/100\n",
            "288/288 [==============================] - 8s 28ms/step - loss: 0.6548 - accuracy: 0.7570 - val_loss: 1.0662 - val_accuracy: 0.6475\n",
            "Epoch 68/100\n",
            "288/288 [==============================] - 8s 28ms/step - loss: 0.6616 - accuracy: 0.7594 - val_loss: 1.0667 - val_accuracy: 0.6473\n",
            "Epoch 69/100\n",
            "288/288 [==============================] - 8s 28ms/step - loss: 0.6633 - accuracy: 0.7555 - val_loss: 1.0669 - val_accuracy: 0.6473\n",
            "Epoch 70/100\n",
            "288/288 [==============================] - 8s 28ms/step - loss: 0.6714 - accuracy: 0.7511 - val_loss: 1.0663 - val_accuracy: 0.6481\n",
            "Epoch 71/100\n",
            "288/288 [==============================] - 8s 28ms/step - loss: 0.6516 - accuracy: 0.7545 - val_loss: 1.0670 - val_accuracy: 0.6475\n",
            "Epoch 72/100\n",
            "288/288 [==============================] - 8s 28ms/step - loss: 0.6808 - accuracy: 0.7446 - val_loss: 1.0669 - val_accuracy: 0.6473\n",
            "Epoch 73/100\n",
            "288/288 [==============================] - 8s 28ms/step - loss: 0.6555 - accuracy: 0.7564 - val_loss: 1.0673 - val_accuracy: 0.6478\n",
            "Epoch 74/100\n",
            "288/288 [==============================] - 8s 28ms/step - loss: 0.6549 - accuracy: 0.7564 - val_loss: 1.0674 - val_accuracy: 0.6475\n",
            "Epoch 75/100\n",
            "288/288 [==============================] - 8s 28ms/step - loss: 0.6656 - accuracy: 0.7534 - val_loss: 1.0674 - val_accuracy: 0.6475\n",
            "Epoch 76/100\n",
            "288/288 [==============================] - 8s 28ms/step - loss: 0.6712 - accuracy: 0.7528 - val_loss: 1.0676 - val_accuracy: 0.6481\n",
            "Epoch 77/100\n",
            "288/288 [==============================] - 8s 28ms/step - loss: 0.6549 - accuracy: 0.7568 - val_loss: 1.0669 - val_accuracy: 0.6475\n",
            "Epoch 78/100\n",
            "288/288 [==============================] - 8s 28ms/step - loss: 0.6599 - accuracy: 0.7550 - val_loss: 1.0671 - val_accuracy: 0.6473\n",
            "Epoch 79/100\n",
            "288/288 [==============================] - 8s 28ms/step - loss: 0.6591 - accuracy: 0.7586 - val_loss: 1.0670 - val_accuracy: 0.6473\n",
            "Epoch 80/100\n",
            "288/288 [==============================] - 8s 28ms/step - loss: 0.6641 - accuracy: 0.7514 - val_loss: 1.0670 - val_accuracy: 0.6475\n",
            "Epoch 81/100\n",
            "288/288 [==============================] - 8s 28ms/step - loss: 0.6653 - accuracy: 0.7558 - val_loss: 1.0678 - val_accuracy: 0.6475\n",
            "Epoch 82/100\n",
            "288/288 [==============================] - 8s 28ms/step - loss: 0.6660 - accuracy: 0.7523 - val_loss: 1.0668 - val_accuracy: 0.6478\n",
            "Epoch 83/100\n",
            "288/288 [==============================] - 8s 28ms/step - loss: 0.6675 - accuracy: 0.7548 - val_loss: 1.0674 - val_accuracy: 0.6478\n",
            "Epoch 84/100\n",
            "288/288 [==============================] - 8s 28ms/step - loss: 0.6675 - accuracy: 0.7558 - val_loss: 1.0674 - val_accuracy: 0.6478\n",
            "Epoch 85/100\n",
            "288/288 [==============================] - 8s 28ms/step - loss: 0.6551 - accuracy: 0.7566 - val_loss: 1.0670 - val_accuracy: 0.6478\n",
            "Epoch 86/100\n",
            "288/288 [==============================] - 8s 28ms/step - loss: 0.6623 - accuracy: 0.7527 - val_loss: 1.0674 - val_accuracy: 0.6484\n",
            "Epoch 87/100\n",
            "288/288 [==============================] - 8s 28ms/step - loss: 0.6659 - accuracy: 0.7535 - val_loss: 1.0673 - val_accuracy: 0.6478\n",
            "Epoch 88/100\n",
            "288/288 [==============================] - 8s 28ms/step - loss: 0.6646 - accuracy: 0.7563 - val_loss: 1.0673 - val_accuracy: 0.6475\n",
            "Epoch 89/100\n",
            "288/288 [==============================] - 8s 28ms/step - loss: 0.6607 - accuracy: 0.7526 - val_loss: 1.0680 - val_accuracy: 0.6470\n",
            "Epoch 90/100\n",
            "288/288 [==============================] - 8s 28ms/step - loss: 0.6617 - accuracy: 0.7579 - val_loss: 1.0668 - val_accuracy: 0.6475\n",
            "Epoch 91/100\n",
            "288/288 [==============================] - 8s 28ms/step - loss: 0.6507 - accuracy: 0.7639 - val_loss: 1.0675 - val_accuracy: 0.6467\n",
            "Epoch 92/100\n",
            "288/288 [==============================] - 8s 28ms/step - loss: 0.6712 - accuracy: 0.7537 - val_loss: 1.0672 - val_accuracy: 0.6470\n",
            "Epoch 93/100\n",
            "288/288 [==============================] - 8s 28ms/step - loss: 0.6671 - accuracy: 0.7531 - val_loss: 1.0670 - val_accuracy: 0.6470\n",
            "Epoch 94/100\n",
            "288/288 [==============================] - 8s 28ms/step - loss: 0.6591 - accuracy: 0.7525 - val_loss: 1.0676 - val_accuracy: 0.6464\n",
            "Epoch 95/100\n",
            "288/288 [==============================] - 8s 28ms/step - loss: 0.6657 - accuracy: 0.7523 - val_loss: 1.0675 - val_accuracy: 0.6464\n",
            "Epoch 96/100\n",
            "288/288 [==============================] - 8s 28ms/step - loss: 0.6649 - accuracy: 0.7525 - val_loss: 1.0676 - val_accuracy: 0.6473\n",
            "Epoch 97/100\n",
            "288/288 [==============================] - 8s 28ms/step - loss: 0.6598 - accuracy: 0.7586 - val_loss: 1.0673 - val_accuracy: 0.6470\n",
            "Epoch 98/100\n",
            "288/288 [==============================] - 8s 28ms/step - loss: 0.6615 - accuracy: 0.7541 - val_loss: 1.0670 - val_accuracy: 0.6478\n",
            "Epoch 99/100\n",
            "288/288 [==============================] - 8s 28ms/step - loss: 0.6640 - accuracy: 0.7557 - val_loss: 1.0676 - val_accuracy: 0.6467\n",
            "Epoch 100/100\n",
            "288/288 [==============================] - 8s 28ms/step - loss: 0.6590 - accuracy: 0.7569 - val_loss: 1.0678 - val_accuracy: 0.6467\n"
          ],
          "name": "stdout"
        }
      ]
    },
    {
      "cell_type": "code",
      "metadata": {
        "colab": {
          "base_uri": "https://localhost:8080/",
          "height": 265
        },
        "id": "RNELbBLhWTOG",
        "outputId": "5f362001-ec2e-4f2d-d2a8-818ae434a74e"
      },
      "source": [
        "fig, ax = plt.subplots(2,1)\n",
        "ax[0].plot(history.history['loss'], color='b', label=\"Training loss\")\n",
        "ax[0].plot(history.history['val_loss'], color='r', label=\"validation loss\",axes =ax[0])\n",
        "legend = ax[0].legend(loc='best', shadow=True)\n",
        "\n",
        "ax[1].plot(history.history['accuracy'], color='b', label=\"Training accuracy\")\n",
        "ax[1].plot(history.history['val_accuracy'], color='r',label=\"Validation accuracy\")\n",
        "legend = ax[1].legend(loc='best', shadow=True)"
      ],
      "execution_count": 15,
      "outputs": [
        {
          "output_type": "display_data",
          "data": {
            "image/png": "[encoded data removed]",
            "text/plain": [
              "<Figure size 432x288 with 2 Axes>"
            ]
          },
          "metadata": {
            "tags": [],
            "needs_background": "light"
          }
        }
      ]
    },
    {
      "cell_type": "code",
      "metadata": {
        "colab": {
          "base_uri": "https://localhost:8080/",
          "height": 311
        },
        "id": "xA7DwCkaWVXX",
        "outputId": "59462e37-ed8f-4fde-8cb9-e965bb0f5677"
      },
      "source": [
        "def plot_confusion_matrix(cm, classes,\n",
        "                          normalize=False,\n",
        "                          title='Confusion matrix',\n",
        "                          cmap=plt.cm.Blues):\n",
        "  \n",
        "    plt.imshow(cm, interpolation='nearest', cmap=cmap)\n",
        "    plt.title(title)\n",
        "    plt.colorbar()\n",
        "    tick_marks = np.arange(len(classes))\n",
        "    plt.xticks(tick_marks, classes, rotation=45)\n",
        "    plt.yticks(tick_marks, classes)\n",
        "    \n",
        "    \n",
        "    if normalize:\n",
        "        cm = cm.astype('float') / cm.sum(axis=1)[:, np.newaxis]\n",
        "\n",
        "    thresh = cm.max() / 2.\n",
        "    for i, j in itertools.product(range(cm.shape[0]), range(cm.shape[1])):\n",
        "        plt.text(j, i, cm[i, j],\n",
        "                 horizontalalignment=\"center\",\n",
        "                 color=\"white\" if cm[i, j] > thresh else \"black\")\n",
        "\n",
        "    plt.tight_layout()\n",
        "    plt.ylabel('True label')\n",
        "    plt.xlabel('Predicted label')\n",
        "\n",
        "# Predict the values from the validation dataset\n",
        "Y_pred = model.predict(X_val)\n",
        "# Convert predictions classes to one hot vectors \n",
        "Y_pred_classes = np.argmax(Y_pred,axis = 1) \n",
        "# Convert validation observations to one hot vectors\n",
        "Y_true = np.argmax(Y_val,axis = 1) \n",
        "# compute the confusion matrix\n",
        "confusion_mtx = confusion_matrix(Y_true, Y_pred_classes) \n",
        "# plot the confusion matrix\n",
        "plot_confusion_matrix(confusion_mtx, classes = range(10)) "
      ],
      "execution_count": 16,
      "outputs": [
        {
          "output_type": "display_data",
          "data": {
            "image/png": "[encoded data removed]",
            "text/plain": [
              "<Figure size 432x288 with 2 Axes>"
            ]
          },
          "metadata": {
            "tags": [],
            "needs_background": "light"
          }
        }
      ]
    },
    {
      "cell_type": "code",
      "metadata": {
        "colab": {
          "base_uri": "https://localhost:8080/"
        },
        "id": "nX5rGrK1WXdQ",
        "outputId": "9b0ccb6c-ae74-44eb-ee1c-78bfa88a20ed"
      },
      "source": [
        "score, acc = model.evaluate(X_test, Y_test, batch_size=100)\n",
        "print('Test score:', score)\n",
        "print(\"Test accuracy:\", acc)"
      ],
      "execution_count": 17,
      "outputs": [
        {
          "output_type": "stream",
          "text": [
            "36/36 [==============================] - 0s 9ms/step - loss: 1.0181 - accuracy: 0.6598\n",
            "Test score: 1.0181373357772827\n",
            "Test accuracy: 0.6597937941551208\n"
          ],
          "name": "stdout"
        }
      ]
    },
    {
      "cell_type": "code",
      "metadata": {
        "id": "k-JL8D-ScrDQ"
      },
      "source": [
        ""
      ],
      "execution_count": 17,
      "outputs": []
    }
  ]
}